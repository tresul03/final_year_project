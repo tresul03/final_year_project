{
 "cells": [
  {
   "cell_type": "code",
   "execution_count": 1,
   "metadata": {},
   "outputs": [],
   "source": [
    "\n",
    "import radiative_transfer_bnn as rt\n",
    "\n",
    "import torch\n",
    "\n",
    "import numpy as np\n",
    "\n",
    "import matplotlib.pyplot as plt\n",
    "\n",
    "import plotter as pltr\n",
    "\n",
    "import pandas as pd"
   ]
  },
  {
   "cell_type": "code",
   "execution_count": 2,
   "metadata": {},
   "outputs": [],
   "source": [
    "# def get_nfr(**kwargs):\n",
    "#     # Define default values\n",
    "#     n = kwargs.get('n', None)\n",
    "#     f = kwargs.get('f', None)\n",
    "#     r = kwargs.get('r', None)\n",
    "\n",
    "\n",
    "#     # Create a dictionary to map argument names to indices\n",
    "#     arg_indices = {'n': 0, 'f': 1, 'r': 2}\n",
    "\n",
    "    \n",
    "\n",
    "#     wavelength = []\n",
    "#     mean_pred_results = torch.empty(200,3,113)\n",
    "#     std_pred_results = torch.empty(200,3,113)\n",
    "#     x_test = torch.empty(200,3,113)\n",
    "#     y_test = torch.empty(200,3,113)\n",
    "\n",
    "\n",
    "#     for key, value in kwargs.items():\n",
    "        \n",
    "#         model = rt.RadiativeTransferBNN(1000, 0.3, 0.01, value)\n",
    "#         model.preprocess_data()\n",
    "#         model.train_model(250, 200)\n",
    "#         wavelength = model.wavelength\n",
    "#         mean_pred_results[:,arg_indices[value],:], std_pred_results[:,arg_indices[value],:] = model.test_model()\n",
    "#         x_test[:,arg_indices[value],:] = model.X_test\n",
    "#         y_test[:,arg_indices[value],:] = model.y_test\n",
    "\n",
    "#     return wavelength, mean_pred_results, std_pred_results, x_test, y_test\n",
    "\n",
    "\n",
    "            \n",
    "\n",
    "    \n",
    "\n",
    "\n"
   ]
  },
  {
   "cell_type": "code",
   "execution_count": 3,
   "metadata": {},
   "outputs": [],
   "source": [
    "# wavelength, mean_pred_results, std_pred_results, x_test, y_test = get_nfr(arg1 = 'n', arg2 = 'f', arg3 = 'r')"
   ]
  },
  {
   "cell_type": "code",
   "execution_count": 4,
   "metadata": {},
   "outputs": [
    {
     "name": "stderr",
     "output_type": "stream",
     "text": [
      "c:\\Users\\joshu\\OneDrive\\Desktop\\Physics_Year_3\\Final_year_project\\Github\\project_script\\src\\semester2\\week3\\radiative_transfer_bnn.py:285: FutureWarning: The behavior of DataFrame concatenation with empty or all-NA entries is deprecated. In a future version, this will no longer exclude empty or all-NA columns when determining the result dtypes. To retain the old behavior, exclude the relevant entries before the concat operation.\n",
      "  self.df = pd.concat([\n"
     ]
    },
    {
     "name": "stdout",
     "output_type": "stream",
     "text": [
      "Training the model...\n",
      "- epoch 1/250 - cost: 9.136, kl:                 0.053\n",
      "- epoch 2/250 - cost: 5.882, kl:                 0.092\n",
      "- epoch 3/250 - cost: 5.201, kl:                 0.127\n",
      "- epoch 4/250 - cost: 2.907, kl:                 0.157\n",
      "- epoch 5/250 - cost: 1.816, kl:                 0.181\n",
      "- epoch 6/250 - cost: 1.319, kl:                 0.200\n",
      "- epoch 7/250 - cost: 1.120, kl:                 0.213\n",
      "- epoch 8/250 - cost: 0.643, kl:                 0.222\n",
      "- epoch 9/250 - cost: 0.461, kl:                 0.229\n",
      "- epoch 10/250 - cost: 0.388, kl:                 0.234\n",
      "- epoch 11/250 - cost: 0.343, kl:                 0.237\n",
      "- epoch 12/250 - cost: 0.333, kl:                 0.239\n",
      "- epoch 13/250 - cost: 0.243, kl:                 0.240\n",
      "- epoch 14/250 - cost: 0.247, kl:                 0.241\n",
      "- epoch 15/250 - cost: 0.209, kl:                 0.241\n",
      "- epoch 16/250 - cost: 0.195, kl:                 0.242\n",
      "- epoch 17/250 - cost: 0.348, kl:                 0.242\n",
      "- epoch 18/250 - cost: 0.184, kl:                 0.242\n",
      "- epoch 19/250 - cost: 0.163, kl:                 0.242\n",
      "- epoch 20/250 - cost: 0.150, kl:                 0.242\n",
      "- epoch 21/250 - cost: 0.149, kl:                 0.242\n",
      "- epoch 22/250 - cost: 0.149, kl:                 0.242\n",
      "- epoch 23/250 - cost: 0.285, kl:                 0.242\n",
      "- epoch 24/250 - cost: 0.134, kl:                 0.242\n",
      "- epoch 25/250 - cost: 0.161, kl:                 0.242\n",
      "- epoch 26/250 - cost: 0.135, kl:                 0.242\n",
      "- epoch 27/250 - cost: 0.145, kl:                 0.242\n",
      "- epoch 28/250 - cost: 0.133, kl:                 0.241\n",
      "- epoch 29/250 - cost: 0.159, kl:                 0.241\n",
      "- epoch 30/250 - cost: 0.530, kl:                 0.241\n",
      "- epoch 31/250 - cost: 0.121, kl:                 0.241\n",
      "- epoch 32/250 - cost: 0.109, kl:                 0.241\n",
      "- epoch 33/250 - cost: 0.195, kl:                 0.241\n",
      "- epoch 34/250 - cost: 0.119, kl:                 0.241\n",
      "- epoch 35/250 - cost: 0.327, kl:                 0.241\n",
      "- epoch 36/250 - cost: 0.416, kl:                 0.241\n",
      "- epoch 37/250 - cost: 0.235, kl:                 0.241\n",
      "- epoch 38/250 - cost: 0.119, kl:                 0.241\n",
      "- epoch 39/250 - cost: 0.109, kl:                 0.240\n",
      "- epoch 40/250 - cost: 0.098, kl:                 0.240\n",
      "- epoch 41/250 - cost: 0.219, kl:                 0.240\n",
      "- epoch 42/250 - cost: 0.138, kl:                 0.240\n",
      "- epoch 43/250 - cost: 0.107, kl:                 0.240\n",
      "- epoch 44/250 - cost: 0.182, kl:                 0.240\n",
      "- epoch 45/250 - cost: 0.087, kl:                 0.239\n",
      "- epoch 46/250 - cost: 0.093, kl:                 0.239\n",
      "- epoch 47/250 - cost: 0.097, kl:                 0.239\n",
      "- epoch 48/250 - cost: 0.098, kl:                 0.238\n",
      "- epoch 49/250 - cost: 0.097, kl:                 0.238\n",
      "- epoch 50/250 - cost: 0.089, kl:                 0.238\n",
      "- epoch 51/250 - cost: 0.110, kl:                 0.238\n",
      "- epoch 52/250 - cost: 0.189, kl:                 0.237\n",
      "- epoch 53/250 - cost: 0.095, kl:                 0.237\n",
      "- epoch 54/250 - cost: 0.105, kl:                 0.236\n",
      "- epoch 55/250 - cost: 0.121, kl:                 0.236\n",
      "- epoch 56/250 - cost: 0.096, kl:                 0.236\n",
      "- epoch 57/250 - cost: 0.102, kl:                 0.235\n",
      "- epoch 58/250 - cost: 0.089, kl:                 0.235\n",
      "- epoch 59/250 - cost: 0.160, kl:                 0.235\n",
      "- epoch 60/250 - cost: 0.153, kl:                 0.234\n",
      "- epoch 61/250 - cost: 0.071, kl:                 0.234\n",
      "- epoch 62/250 - cost: 0.088, kl:                 0.233\n",
      "- epoch 63/250 - cost: 0.076, kl:                 0.233\n",
      "- epoch 64/250 - cost: 0.087, kl:                 0.233\n",
      "- epoch 65/250 - cost: 0.071, kl:                 0.232\n",
      "- epoch 66/250 - cost: 0.085, kl:                 0.232\n",
      "- epoch 67/250 - cost: 0.069, kl:                 0.231\n",
      "- epoch 68/250 - cost: 0.079, kl:                 0.231\n",
      "- epoch 69/250 - cost: 0.085, kl:                 0.230\n",
      "- epoch 70/250 - cost: 0.067, kl:                 0.230\n",
      "- epoch 71/250 - cost: 0.078, kl:                 0.229\n",
      "- epoch 72/250 - cost: 0.089, kl:                 0.229\n",
      "- epoch 73/250 - cost: 0.077, kl:                 0.228\n",
      "- epoch 74/250 - cost: 0.068, kl:                 0.228\n",
      "- epoch 75/250 - cost: 0.067, kl:                 0.227\n",
      "- epoch 76/250 - cost: 0.077, kl:                 0.227\n",
      "- epoch 77/250 - cost: 0.086, kl:                 0.226\n",
      "- epoch 78/250 - cost: 0.072, kl:                 0.226\n",
      "- epoch 79/250 - cost: 0.202, kl:                 0.225\n",
      "- epoch 80/250 - cost: 0.074, kl:                 0.225\n",
      "- epoch 81/250 - cost: 0.059, kl:                 0.224\n",
      "- epoch 82/250 - cost: 0.079, kl:                 0.224\n",
      "- epoch 83/250 - cost: 0.096, kl:                 0.223\n",
      "- epoch 84/250 - cost: 0.093, kl:                 0.223\n",
      "- epoch 85/250 - cost: 0.069, kl:                 0.222\n",
      "- epoch 86/250 - cost: 0.073, kl:                 0.222\n",
      "- epoch 87/250 - cost: 0.091, kl:                 0.221\n",
      "- epoch 88/250 - cost: 0.091, kl:                 0.221\n",
      "- epoch 89/250 - cost: 0.062, kl:                 0.220\n",
      "- epoch 90/250 - cost: 0.052, kl:                 0.219\n",
      "- epoch 91/250 - cost: 0.054, kl:                 0.219\n",
      "- epoch 92/250 - cost: 0.066, kl:                 0.218\n",
      "- epoch 93/250 - cost: 0.055, kl:                 0.218\n",
      "- epoch 94/250 - cost: 0.067, kl:                 0.217\n",
      "- epoch 95/250 - cost: 0.060, kl:                 0.216\n",
      "- epoch 96/250 - cost: 0.052, kl:                 0.216\n",
      "- epoch 97/250 - cost: 0.084, kl:                 0.215\n",
      "- epoch 98/250 - cost: 0.063, kl:                 0.215\n",
      "- epoch 99/250 - cost: 0.052, kl:                 0.214\n",
      "- epoch 100/250 - cost: 0.064, kl:                 0.213\n",
      "- epoch 101/250 - cost: 0.075, kl:                 0.213\n",
      "- epoch 102/250 - cost: 0.057, kl:                 0.212\n",
      "- epoch 103/250 - cost: 0.052, kl:                 0.211\n",
      "- epoch 104/250 - cost: 0.049, kl:                 0.211\n",
      "- epoch 105/250 - cost: 0.100, kl:                 0.210\n",
      "- epoch 106/250 - cost: 0.054, kl:                 0.210\n",
      "- epoch 107/250 - cost: 0.053, kl:                 0.209\n",
      "- epoch 108/250 - cost: 0.090, kl:                 0.208\n",
      "- epoch 109/250 - cost: 0.046, kl:                 0.208\n",
      "- epoch 110/250 - cost: 0.047, kl:                 0.207\n",
      "- epoch 111/250 - cost: 0.053, kl:                 0.206\n",
      "- epoch 112/250 - cost: 0.105, kl:                 0.206\n",
      "- epoch 113/250 - cost: 0.061, kl:                 0.205\n",
      "- epoch 114/250 - cost: 0.045, kl:                 0.204\n",
      "- epoch 115/250 - cost: 0.054, kl:                 0.204\n",
      "- epoch 116/250 - cost: 0.050, kl:                 0.203\n",
      "- epoch 117/250 - cost: 0.049, kl:                 0.202\n",
      "- epoch 118/250 - cost: 0.044, kl:                 0.202\n",
      "- epoch 119/250 - cost: 0.053, kl:                 0.201\n",
      "- epoch 120/250 - cost: 0.045, kl:                 0.200\n",
      "- epoch 121/250 - cost: 0.050, kl:                 0.200\n",
      "- epoch 122/250 - cost: 0.040, kl:                 0.199\n",
      "- epoch 123/250 - cost: 0.050, kl:                 0.198\n",
      "- epoch 124/250 - cost: 0.046, kl:                 0.198\n",
      "- epoch 125/250 - cost: 0.047, kl:                 0.197\n",
      "- epoch 126/250 - cost: 0.046, kl:                 0.196\n",
      "- epoch 127/250 - cost: 0.040, kl:                 0.196\n",
      "- epoch 128/250 - cost: 0.068, kl:                 0.195\n",
      "- epoch 129/250 - cost: 0.062, kl:                 0.194\n",
      "- epoch 130/250 - cost: 0.041, kl:                 0.193\n",
      "- epoch 131/250 - cost: 0.043, kl:                 0.193\n",
      "- epoch 132/250 - cost: 0.043, kl:                 0.192\n",
      "- epoch 133/250 - cost: 0.041, kl:                 0.191\n",
      "- epoch 134/250 - cost: 0.040, kl:                 0.191\n",
      "- epoch 135/250 - cost: 0.046, kl:                 0.190\n",
      "- epoch 136/250 - cost: 0.047, kl:                 0.189\n",
      "- epoch 137/250 - cost: 0.046, kl:                 0.189\n",
      "- epoch 138/250 - cost: 0.057, kl:                 0.188\n",
      "- epoch 139/250 - cost: 0.040, kl:                 0.187\n",
      "- epoch 140/250 - cost: 0.068, kl:                 0.186\n",
      "- epoch 141/250 - cost: 0.051, kl:                 0.186\n",
      "- epoch 142/250 - cost: 0.041, kl:                 0.185\n",
      "- epoch 143/250 - cost: 0.040, kl:                 0.184\n",
      "- epoch 144/250 - cost: 0.041, kl:                 0.184\n",
      "- epoch 145/250 - cost: 0.063, kl:                 0.183\n",
      "- epoch 146/250 - cost: 0.038, kl:                 0.182\n",
      "- epoch 147/250 - cost: 0.061, kl:                 0.182\n",
      "- epoch 148/250 - cost: 0.038, kl:                 0.181\n",
      "- epoch 149/250 - cost: 0.036, kl:                 0.180\n",
      "- epoch 150/250 - cost: 0.039, kl:                 0.180\n",
      "- epoch 151/250 - cost: 0.039, kl:                 0.179\n",
      "- epoch 152/250 - cost: 0.044, kl:                 0.178\n",
      "- epoch 153/250 - cost: 0.044, kl:                 0.178\n",
      "- epoch 154/250 - cost: 0.037, kl:                 0.177\n",
      "- epoch 155/250 - cost: 0.039, kl:                 0.176\n",
      "- epoch 156/250 - cost: 0.045, kl:                 0.175\n",
      "- epoch 157/250 - cost: 0.036, kl:                 0.175\n",
      "- epoch 158/250 - cost: 0.042, kl:                 0.174\n",
      "- epoch 159/250 - cost: 0.038, kl:                 0.173\n",
      "- epoch 160/250 - cost: 0.038, kl:                 0.173\n",
      "- epoch 161/250 - cost: 0.036, kl:                 0.172\n",
      "- epoch 162/250 - cost: 0.037, kl:                 0.171\n",
      "- epoch 163/250 - cost: 0.041, kl:                 0.171\n",
      "- epoch 164/250 - cost: 0.041, kl:                 0.170\n",
      "- epoch 165/250 - cost: 0.035, kl:                 0.169\n",
      "- epoch 166/250 - cost: 0.046, kl:                 0.168\n",
      "- epoch 167/250 - cost: 0.041, kl:                 0.168\n",
      "- epoch 168/250 - cost: 0.034, kl:                 0.167\n",
      "- epoch 169/250 - cost: 0.032, kl:                 0.166\n",
      "- epoch 170/250 - cost: 0.033, kl:                 0.166\n",
      "- epoch 171/250 - cost: 0.032, kl:                 0.165\n",
      "- epoch 172/250 - cost: 0.033, kl:                 0.164\n",
      "- epoch 173/250 - cost: 0.035, kl:                 0.164\n",
      "- epoch 174/250 - cost: 0.032, kl:                 0.163\n",
      "- epoch 175/250 - cost: 0.047, kl:                 0.162\n",
      "- epoch 176/250 - cost: 0.040, kl:                 0.161\n",
      "- epoch 177/250 - cost: 0.039, kl:                 0.161\n",
      "- epoch 178/250 - cost: 0.045, kl:                 0.160\n",
      "- epoch 179/250 - cost: 0.032, kl:                 0.159\n",
      "- epoch 180/250 - cost: 0.031, kl:                 0.159\n",
      "- epoch 181/250 - cost: 0.030, kl:                 0.158\n",
      "- epoch 182/250 - cost: 0.031, kl:                 0.157\n",
      "- epoch 183/250 - cost: 0.033, kl:                 0.157\n",
      "- epoch 184/250 - cost: 0.035, kl:                 0.156\n",
      "- epoch 185/250 - cost: 0.031, kl:                 0.155\n",
      "- epoch 186/250 - cost: 0.036, kl:                 0.155\n",
      "- epoch 187/250 - cost: 0.037, kl:                 0.154\n",
      "- epoch 188/250 - cost: 0.032, kl:                 0.153\n",
      "- epoch 189/250 - cost: 0.031, kl:                 0.153\n",
      "- epoch 190/250 - cost: 0.028, kl:                 0.152\n",
      "- epoch 191/250 - cost: 0.035, kl:                 0.151\n",
      "- epoch 192/250 - cost: 0.032, kl:                 0.150\n",
      "- epoch 193/250 - cost: 0.032, kl:                 0.150\n",
      "- epoch 194/250 - cost: 0.030, kl:                 0.149\n",
      "- epoch 195/250 - cost: 0.031, kl:                 0.149\n",
      "- epoch 196/250 - cost: 0.030, kl:                 0.148\n",
      "- epoch 197/250 - cost: 0.028, kl:                 0.147\n",
      "- epoch 198/250 - cost: 0.031, kl:                 0.147\n",
      "- epoch 199/250 - cost: 0.032, kl:                 0.146\n",
      "- epoch 200/250 - cost: 0.030, kl:                 0.145\n",
      "- epoch 201/250 - cost: 0.030, kl:                 0.145\n",
      "- epoch 202/250 - cost: 0.032, kl:                 0.144\n",
      "- epoch 203/250 - cost: 0.026, kl:                 0.143\n",
      "- epoch 204/250 - cost: 0.029, kl:                 0.143\n",
      "- epoch 205/250 - cost: 0.031, kl:                 0.142\n",
      "- epoch 206/250 - cost: 0.029, kl:                 0.141\n",
      "- epoch 207/250 - cost: 0.030, kl:                 0.141\n",
      "- epoch 208/250 - cost: 0.033, kl:                 0.140\n",
      "- epoch 209/250 - cost: 0.032, kl:                 0.139\n",
      "- epoch 210/250 - cost: 0.028, kl:                 0.139\n",
      "- epoch 211/250 - cost: 0.027, kl:                 0.138\n",
      "- epoch 212/250 - cost: 0.029, kl:                 0.137\n",
      "- epoch 213/250 - cost: 0.034, kl:                 0.137\n",
      "- epoch 214/250 - cost: 0.025, kl:                 0.136\n",
      "- epoch 215/250 - cost: 0.027, kl:                 0.136\n",
      "- epoch 216/250 - cost: 0.026, kl:                 0.135\n",
      "- epoch 217/250 - cost: 0.031, kl:                 0.134\n",
      "- epoch 218/250 - cost: 0.027, kl:                 0.134\n",
      "- epoch 219/250 - cost: 0.036, kl:                 0.133\n",
      "- epoch 220/250 - cost: 0.025, kl:                 0.132\n",
      "- epoch 221/250 - cost: 0.029, kl:                 0.132\n",
      "- epoch 222/250 - cost: 0.027, kl:                 0.131\n",
      "- epoch 223/250 - cost: 0.036, kl:                 0.131\n",
      "- epoch 224/250 - cost: 0.033, kl:                 0.130\n",
      "- epoch 225/250 - cost: 0.025, kl:                 0.129\n",
      "- epoch 226/250 - cost: 0.024, kl:                 0.129\n",
      "- epoch 227/250 - cost: 0.029, kl:                 0.128\n",
      "- epoch 228/250 - cost: 0.025, kl:                 0.128\n",
      "- epoch 229/250 - cost: 0.028, kl:                 0.127\n",
      "- epoch 230/250 - cost: 0.026, kl:                 0.126\n",
      "- epoch 231/250 - cost: 0.025, kl:                 0.126\n",
      "- epoch 232/250 - cost: 0.039, kl:                 0.125\n",
      "- epoch 233/250 - cost: 0.036, kl:                 0.125\n",
      "- epoch 234/250 - cost: 0.028, kl:                 0.124\n",
      "- epoch 235/250 - cost: 0.029, kl:                 0.123\n",
      "- epoch 236/250 - cost: 0.023, kl:                 0.123\n",
      "- epoch 237/250 - cost: 0.025, kl:                 0.122\n",
      "- epoch 238/250 - cost: 0.026, kl:                 0.122\n",
      "- epoch 239/250 - cost: 0.030, kl:                 0.121\n",
      "- epoch 240/250 - cost: 0.022, kl:                 0.121\n",
      "- epoch 241/250 - cost: 0.024, kl:                 0.120\n",
      "- epoch 242/250 - cost: 0.022, kl:                 0.119\n",
      "- epoch 243/250 - cost: 0.026, kl:                 0.119\n",
      "- epoch 244/250 - cost: 0.026, kl:                 0.118\n",
      "- epoch 245/250 - cost: 0.022, kl:                 0.118\n",
      "- epoch 246/250 - cost: 0.026, kl:                 0.117\n",
      "- epoch 247/250 - cost: 0.023, kl:                 0.117\n",
      "- epoch 248/250 - cost: 0.023, kl:                 0.116\n",
      "- epoch 249/250 - cost: 0.023, kl:                 0.115\n",
      "- epoch 250/250 - cost: 0.030, kl:                 0.115\n",
      "- this took 189.82 seconds\n",
      "Testing the model...\n",
      "(500, 230, 113)\n",
      "- cost: 0.018\n",
      "- this took 23.16 seconds\n"
     ]
    }
   ],
   "source": [
    "model = rt.RadiativeTransferBNN(1000, 0.3, 0.01, 'flux')\n",
    "model.preprocess_data()\n",
    "model.train_model(250, 200)\n",
    "wavelength = model.wavelength\n",
    "mean_pred_results, std_pred_results = model.test_model()\n",
    "x_test = model.X_test\n",
    "y_test = model.y_test"
   ]
  },
  {
   "cell_type": "code",
   "execution_count": 5,
   "metadata": {},
   "outputs": [
    {
     "name": "stdout",
     "output_type": "stream",
     "text": [
      "torch.Size([230, 3])\n"
     ]
    }
   ],
   "source": [
    "print(x_test.shape)"
   ]
  },
  {
   "cell_type": "code",
   "execution_count": 6,
   "metadata": {},
   "outputs": [
    {
     "name": "stdout",
     "output_type": "stream",
     "text": [
      "torch.Size([20, 3])\n",
      "Predicting the output...\n"
     ]
    },
    {
     "name": "stdout",
     "output_type": "stream",
     "text": [
      "(500, 20, 113)\n"
     ]
    }
   ],
   "source": [
    "star_mass = torch.linspace(10.5, 10.5, 20)\n",
    "dust_mass = torch.linspace(7, 7, 20)\n",
    "theta = torch.linspace(-180, 180, 20)\n",
    "x_pred = model.create_predict_tensor(star_mass, dust_mass, theta)\n",
    "print(x_pred.shape)\n",
    "mean_pred_results, std_pred_results = model.predict(x_pred)"
   ]
  },
  {
   "cell_type": "code",
   "execution_count": 7,
   "metadata": {},
   "outputs": [
    {
     "ename": "ValueError",
     "evalue": "Unable to determine Axes to steal space for Colorbar. Either provide the *cax* argument to use as the Axes for the Colorbar, provide the *ax* argument to steal space from it, or add *mappable* to an Axes.",
     "output_type": "error",
     "traceback": [
      "\u001b[1;31m---------------------------------------------------------------------------\u001b[0m",
      "\u001b[1;31mValueError\u001b[0m                                Traceback (most recent call last)",
      "Cell \u001b[1;32mIn[7], line 2\u001b[0m\n\u001b[0;32m      1\u001b[0m plotter \u001b[38;5;241m=\u001b[39m pltr\u001b[38;5;241m.\u001b[39mPlotter(wavelength, mean_pred_results, x_test, y_test,\u001b[38;5;124m\"\u001b[39m\u001b[38;5;124mf\u001b[39m\u001b[38;5;124m\"\u001b[39m)\n\u001b[1;32m----> 2\u001b[0m \u001b[43mplotter\u001b[49m\u001b[38;5;241;43m.\u001b[39;49m\u001b[43mplot_same_ax\u001b[49m\u001b[43m(\u001b[49m\u001b[38;5;241;43m0\u001b[39;49m\u001b[43m,\u001b[49m\u001b[38;5;241;43m20\u001b[39;49m\u001b[43m,\u001b[49m\u001b[38;5;241;43m1\u001b[39;49m\u001b[43m)\u001b[49m\n\u001b[0;32m      4\u001b[0m \u001b[38;5;66;03m#it's not changing enough for angle\u001b[39;00m\n\u001b[0;32m      5\u001b[0m \u001b[38;5;66;03m# you can only notice a change by going outside the range of values\u001b[39;00m\n\u001b[0;32m      6\u001b[0m \u001b[38;5;66;03m#is this to do with normalisation when training the model?\u001b[39;00m\n\u001b[1;32m   (...)\u001b[0m\n\u001b[0;32m      9\u001b[0m \u001b[38;5;66;03m#maybe create a function that groups SKIRT data over a range, no we need to generate more for fixed values\u001b[39;00m\n\u001b[0;32m     10\u001b[0m \u001b[38;5;66;03m#see if the sub-runs are any different, for, like, 3-4 runs; if no conclusive difference, then yeah\u001b[39;00m\n",
      "File \u001b[1;32mc:\\Users\\joshu\\OneDrive\\Desktop\\Physics_Year_3\\Final_year_project\\Github\\project_script\\src\\semester2\\week3\\plotter.py:102\u001b[0m, in \u001b[0;36mPlotter.plot_same_ax\u001b[1;34m(self, i, j, step_size)\u001b[0m\n\u001b[0;32m     99\u001b[0m plt\u001b[38;5;241m.\u001b[39mylabel(\u001b[38;5;124m'\u001b[39m\u001b[38;5;124mSersic Index (Normalised)\u001b[39m\u001b[38;5;124m'\u001b[39m)\n\u001b[0;32m    100\u001b[0m plt\u001b[38;5;241m.\u001b[39mxscale(\u001b[38;5;124m'\u001b[39m\u001b[38;5;124mlog\u001b[39m\u001b[38;5;124m'\u001b[39m)\n\u001b[1;32m--> 102\u001b[0m \u001b[43mplt\u001b[49m\u001b[38;5;241;43m.\u001b[39;49m\u001b[43mcolorbar\u001b[49m\u001b[43m(\u001b[49m\u001b[43mplt\u001b[49m\u001b[38;5;241;43m.\u001b[39;49m\u001b[43mcm\u001b[49m\u001b[38;5;241;43m.\u001b[39;49m\u001b[43mScalarMappable\u001b[49m\u001b[43m(\u001b[49m\u001b[43mcmap\u001b[49m\u001b[38;5;241;43m=\u001b[39;49m\u001b[38;5;124;43m'\u001b[39;49m\u001b[38;5;124;43mautumn\u001b[39;49m\u001b[38;5;124;43m'\u001b[39;49m\u001b[43m)\u001b[49m\u001b[43m,\u001b[49m\u001b[43m \u001b[49m\u001b[43mlabel\u001b[49m\u001b[38;5;241;43m=\u001b[39;49m\u001b[38;5;124;43m'\u001b[39;49m\u001b[38;5;124;43mInput Value\u001b[39;49m\u001b[38;5;124;43m'\u001b[39;49m\u001b[43m)\u001b[49m\n\u001b[0;32m    104\u001b[0m plt\u001b[38;5;241m.\u001b[39msuptitle(\u001b[38;5;124mf\u001b[39m\u001b[38;5;124m'\u001b[39m\u001b[38;5;124mPredicted Mean Model for \u001b[39m\u001b[38;5;132;01m{\u001b[39;00mq\u001b[38;5;132;01m}\u001b[39;00m\u001b[38;5;124m to \u001b[39m\u001b[38;5;132;01m{\u001b[39;00mj\u001b[38;5;132;01m}\u001b[39;00m\u001b[38;5;124m'\u001b[39m)\n\u001b[0;32m    106\u001b[0m plt\u001b[38;5;241m.\u001b[39mtight_layout()\n",
      "File \u001b[1;32mc:\\Users\\joshu\\AppData\\Local\\Programs\\Python\\Python311\\Lib\\site-packages\\matplotlib\\pyplot.py:2326\u001b[0m, in \u001b[0;36mcolorbar\u001b[1;34m(mappable, cax, ax, **kwargs)\u001b[0m\n\u001b[0;32m   2321\u001b[0m     \u001b[38;5;28;01mif\u001b[39;00m mappable \u001b[38;5;129;01mis\u001b[39;00m \u001b[38;5;28;01mNone\u001b[39;00m:\n\u001b[0;32m   2322\u001b[0m         \u001b[38;5;28;01mraise\u001b[39;00m \u001b[38;5;167;01mRuntimeError\u001b[39;00m(\u001b[38;5;124m'\u001b[39m\u001b[38;5;124mNo mappable was found to use for colorbar \u001b[39m\u001b[38;5;124m'\u001b[39m\n\u001b[0;32m   2323\u001b[0m                            \u001b[38;5;124m'\u001b[39m\u001b[38;5;124mcreation. First define a mappable such as \u001b[39m\u001b[38;5;124m'\u001b[39m\n\u001b[0;32m   2324\u001b[0m                            \u001b[38;5;124m'\u001b[39m\u001b[38;5;124man image (with imshow) or a contour set (\u001b[39m\u001b[38;5;124m'\u001b[39m\n\u001b[0;32m   2325\u001b[0m                            \u001b[38;5;124m'\u001b[39m\u001b[38;5;124mwith contourf).\u001b[39m\u001b[38;5;124m'\u001b[39m)\n\u001b[1;32m-> 2326\u001b[0m ret \u001b[38;5;241m=\u001b[39m \u001b[43mgcf\u001b[49m\u001b[43m(\u001b[49m\u001b[43m)\u001b[49m\u001b[38;5;241;43m.\u001b[39;49m\u001b[43mcolorbar\u001b[49m\u001b[43m(\u001b[49m\u001b[43mmappable\u001b[49m\u001b[43m,\u001b[49m\u001b[43m \u001b[49m\u001b[43mcax\u001b[49m\u001b[38;5;241;43m=\u001b[39;49m\u001b[43mcax\u001b[49m\u001b[43m,\u001b[49m\u001b[43m \u001b[49m\u001b[43max\u001b[49m\u001b[38;5;241;43m=\u001b[39;49m\u001b[43max\u001b[49m\u001b[43m,\u001b[49m\u001b[43m \u001b[49m\u001b[38;5;241;43m*\u001b[39;49m\u001b[38;5;241;43m*\u001b[39;49m\u001b[43mkwargs\u001b[49m\u001b[43m)\u001b[49m\n\u001b[0;32m   2327\u001b[0m \u001b[38;5;28;01mreturn\u001b[39;00m ret\n",
      "File \u001b[1;32mc:\\Users\\joshu\\AppData\\Local\\Programs\\Python\\Python311\\Lib\\site-packages\\matplotlib\\figure.py:1285\u001b[0m, in \u001b[0;36mFigureBase.colorbar\u001b[1;34m(self, mappable, cax, ax, use_gridspec, **kwargs)\u001b[0m\n\u001b[0;32m   1283\u001b[0m \u001b[38;5;28;01mif\u001b[39;00m cax \u001b[38;5;129;01mis\u001b[39;00m \u001b[38;5;28;01mNone\u001b[39;00m:\n\u001b[0;32m   1284\u001b[0m     \u001b[38;5;28;01mif\u001b[39;00m ax \u001b[38;5;129;01mis\u001b[39;00m \u001b[38;5;28;01mNone\u001b[39;00m:\n\u001b[1;32m-> 1285\u001b[0m         \u001b[38;5;28;01mraise\u001b[39;00m \u001b[38;5;167;01mValueError\u001b[39;00m(\n\u001b[0;32m   1286\u001b[0m             \u001b[38;5;124m'\u001b[39m\u001b[38;5;124mUnable to determine Axes to steal space for Colorbar. \u001b[39m\u001b[38;5;124m'\u001b[39m\n\u001b[0;32m   1287\u001b[0m             \u001b[38;5;124m'\u001b[39m\u001b[38;5;124mEither provide the *cax* argument to use as the Axes for \u001b[39m\u001b[38;5;124m'\u001b[39m\n\u001b[0;32m   1288\u001b[0m             \u001b[38;5;124m'\u001b[39m\u001b[38;5;124mthe Colorbar, provide the *ax* argument to steal space \u001b[39m\u001b[38;5;124m'\u001b[39m\n\u001b[0;32m   1289\u001b[0m             \u001b[38;5;124m'\u001b[39m\u001b[38;5;124mfrom it, or add *mappable* to an Axes.\u001b[39m\u001b[38;5;124m'\u001b[39m)\n\u001b[0;32m   1290\u001b[0m     fig \u001b[38;5;241m=\u001b[39m (  \u001b[38;5;66;03m# Figure of first axes; logic copied from make_axes.\u001b[39;00m\n\u001b[0;32m   1291\u001b[0m         [\u001b[38;5;241m*\u001b[39max\u001b[38;5;241m.\u001b[39mflat] \u001b[38;5;28;01mif\u001b[39;00m \u001b[38;5;28misinstance\u001b[39m(ax, np\u001b[38;5;241m.\u001b[39mndarray)\n\u001b[0;32m   1292\u001b[0m         \u001b[38;5;28;01melse\u001b[39;00m [\u001b[38;5;241m*\u001b[39max] \u001b[38;5;28;01mif\u001b[39;00m np\u001b[38;5;241m.\u001b[39miterable(ax)\n\u001b[0;32m   1293\u001b[0m         \u001b[38;5;28;01melse\u001b[39;00m [ax])[\u001b[38;5;241m0\u001b[39m]\u001b[38;5;241m.\u001b[39mfigure\n\u001b[0;32m   1294\u001b[0m     current_ax \u001b[38;5;241m=\u001b[39m fig\u001b[38;5;241m.\u001b[39mgca()\n",
      "\u001b[1;31mValueError\u001b[0m: Unable to determine Axes to steal space for Colorbar. Either provide the *cax* argument to use as the Axes for the Colorbar, provide the *ax* argument to steal space from it, or add *mappable* to an Axes."
     ]
    },
    {
     "data": {
      "image/png": "[encoded data removed]",
      "text/plain": [
       "<Figure size 1500x500 with 1 Axes>"
      ]
     },
     "metadata": {},
     "output_type": "display_data"
    }
   ],
   "source": [
    "plotter = pltr.Plotter(wavelength, mean_pred_results, x_test, y_test,\"f\")\n",
    "plotter.plot_same_ax(0,20,1)\n",
    "\n",
    "#it's not changing enough for angle\n",
    "# you can only notice a change by going outside the range of values\n",
    "#is this to do with normalisation when training the model?\n",
    "# most likely\n",
    "#is it worth seeing how SKIRT changes with angle?\n",
    "#maybe create a function that groups SKIRT data over a range, no we need to generate more for fixed values\n",
    "#see if the sub-runs are any different, for, like, 3-4 runs; if no conclusive difference, then yeah"
   ]
  },
  {
   "cell_type": "code",
   "execution_count": null,
   "metadata": {},
   "outputs": [],
   "source": [
    "# np.savez('data_file.npz', wavelength=wavelength, mean_pred_results=mean_pred_results,\n",
    "#         std_pred_results=std_pred_results, x_test=x_test, y_test=y_test)"
   ]
  },
  {
   "cell_type": "code",
   "execution_count": null,
   "metadata": {},
   "outputs": [],
   "source": [
    "loaded_data = np.load('data_file.npz')\n",
    "wavelength = loaded_data['wavelength']\n",
    "mean_pred_results = loaded_data['mean_pred_results']\n",
    "std_pred_results = loaded_data['std_pred_results']\n",
    "x_test = loaded_data['x_test']\n",
    "y_test = loaded_data['y_test']"
   ]
  },
  {
   "cell_type": "code",
   "execution_count": null,
   "metadata": {},
   "outputs": [
    {
     "name": "stdout",
     "output_type": "stream",
     "text": [
      "(230, 3)\n"
     ]
    }
   ],
   "source": [
    "print(x_test.shape)"
   ]
  },
  {
   "cell_type": "code",
   "execution_count": null,
   "metadata": {},
   "outputs": [
    {
     "ename": "IndexError",
     "evalue": "index 100 is out of bounds for axis 0 with size 20",
     "output_type": "error",
     "traceback": [
      "\u001b[1;31m---------------------------------------------------------------------------\u001b[0m",
      "\u001b[1;31mIndexError\u001b[0m                                Traceback (most recent call last)",
      "Cell \u001b[1;32mIn[29], line 5\u001b[0m\n\u001b[0;32m      1\u001b[0m plotter \u001b[38;5;241m=\u001b[39m pltr\u001b[38;5;241m.\u001b[39mPlotter(wavelength, mean_pred_results, x_test, y_test,\u001b[38;5;124m\"\u001b[39m\u001b[38;5;124mf\u001b[39m\u001b[38;5;124m\"\u001b[39m)\n\u001b[0;32m      2\u001b[0m \u001b[38;5;66;03m#plotter.plot_line(x=wavelength, y=mean_pred_results[0, :])\u001b[39;00m\n\u001b[0;32m      3\u001b[0m \u001b[38;5;66;03m#plotter.plot_single(150, \"grey\", \"salmon\")\u001b[39;00m\n\u001b[0;32m      4\u001b[0m \u001b[38;5;66;03m#plotter.plot_group_same(100, 120, \"grey\", \"salmon\")\u001b[39;00m\n\u001b[1;32m----> 5\u001b[0m \u001b[43mplotter\u001b[49m\u001b[38;5;241;43m.\u001b[39;49m\u001b[43mplot_same_ax\u001b[49m\u001b[43m(\u001b[49m\u001b[38;5;241;43m100\u001b[39;49m\u001b[43m,\u001b[49m\u001b[38;5;241;43m200\u001b[39;49m\u001b[43m,\u001b[49m\u001b[38;5;241;43m1\u001b[39;49m\u001b[43m)\u001b[49m\n\u001b[0;32m      7\u001b[0m \u001b[38;5;66;03m#plotter.save_figure(\"test.png\")\u001b[39;00m\n",
      "File \u001b[1;32mc:\\Users\\joshu\\OneDrive\\Desktop\\Physics_Year_3\\Final_year_project\\Github\\project_script\\src\\semester2\\week3\\plotter.py:94\u001b[0m, in \u001b[0;36mPlotter.plot_same_ax\u001b[1;34m(self, i, j, step_size)\u001b[0m\n\u001b[0;32m     90\u001b[0m \u001b[38;5;28;01mwhile\u001b[39;00m i \u001b[38;5;241m<\u001b[39m j:\n\u001b[0;32m     92\u001b[0m     color \u001b[38;5;241m=\u001b[39m plt\u001b[38;5;241m.\u001b[39mcm\u001b[38;5;241m.\u001b[39mautumn(((i\u001b[38;5;241m-\u001b[39mq)\u001b[38;5;241m+\u001b[39m\u001b[38;5;241m1\u001b[39m) \u001b[38;5;241m/\u001b[39m (j\u001b[38;5;241m-\u001b[39mq))\n\u001b[1;32m---> 94\u001b[0m     ax\u001b[38;5;241m.\u001b[39mplot(\u001b[38;5;28mself\u001b[39m\u001b[38;5;241m.\u001b[39mx,\u001b[38;5;28;43mself\u001b[39;49m\u001b[38;5;241;43m.\u001b[39;49m\u001b[43my\u001b[49m\u001b[43m[\u001b[49m\u001b[43mi\u001b[49m\u001b[43m,\u001b[49m\u001b[43m:\u001b[49m\u001b[43m]\u001b[49m,color\u001b[38;5;241m=\u001b[39m color,lw\u001b[38;5;241m=\u001b[39m\u001b[38;5;241m3\u001b[39m)\n\u001b[0;32m     96\u001b[0m     i \u001b[38;5;241m+\u001b[39m\u001b[38;5;241m=\u001b[39m step_size\n\u001b[0;32m     98\u001b[0m plt\u001b[38;5;241m.\u001b[39mxlabel(\u001b[38;5;124mf\u001b[39m\u001b[38;5;124m'\u001b[39m\u001b[38;5;124mWavelength($\u001b[39m\u001b[38;5;130;01m\\\\\u001b[39;00m\u001b[38;5;124mmu$m)\u001b[39m\u001b[38;5;124m'\u001b[39m)\n",
      "\u001b[1;31mIndexError\u001b[0m: index 100 is out of bounds for axis 0 with size 20"
     ]
    },
    {
     "data": {
      "image/png": "[encoded data removed]",
      "text/plain": [
       "<Figure size 1500x500 with 1 Axes>"
      ]
     },
     "metadata": {},
     "output_type": "display_data"
    }
   ],
   "source": [
    "plotter = pltr.Plotter(wavelength, mean_pred_results, x_test, y_test,\"f\")\n",
    "#plotter.plot_line(x=wavelength, y=mean_pred_results[0, :])\n",
    "#plotter.plot_single(150, \"grey\", \"salmon\")\n",
    "#plotter.plot_group_same(100, 120, \"grey\", \"salmon\")\n",
    "plotter.plot_same_ax(100,200,1)\n",
    "\n",
    "#plotter.save_figure(\"test.png\")\n"
   ]
  },
  {
   "cell_type": "code",
   "execution_count": null,
   "metadata": {},
   "outputs": [],
   "source": [
    "#write prdeict function on saved model\n",
    "#linear interpolation of extremes\n",
    "#can only predict within the range of the training data\n",
    "#what about extrapolation?\n",
    "#comapare for extraploation can use predict function\n",
    "#what is the uncertainty of the prediction\n",
    "#Produce SED "
   ]
  },
  {
   "cell_type": "code",
   "execution_count": null,
   "metadata": {},
   "outputs": [],
   "source": [
    "#plotter function add std deviation\n",
    "#change labels\n",
    "#cost_vs_epochs plot\n",
    "#ask steven about datd\n",
    "#generate data for fixed values\n",
    "\n"
   ]
  }
 ],
 "metadata": {
  "kernelspec": {
   "display_name": "Python 3",
   "language": "python",
   "name": "python3"
  },
  "language_info": {
   "codemirror_mode": {
    "name": "ipython",
    "version": 3
   },
   "file_extension": ".py",
   "mimetype": "text/x-python",
   "name": "python",
   "nbconvert_exporter": "python",
   "pygments_lexer": "ipython3",
   "version": "3.11.6"
  }
 },
 "nbformat": 4,
 "nbformat_minor": 2
}
