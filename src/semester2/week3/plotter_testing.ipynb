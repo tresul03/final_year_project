{
 "cells": [
  {
   "cell_type": "code",
   "execution_count": 1,
   "metadata": {},
   "outputs": [],
   "source": [
    "\n",
    "import radiative_transfer_bnn as rt\n",
    "\n",
    "import matplotlib.pyplot as plt"
   ]
  },
  {
   "cell_type": "code",
   "execution_count": null,
   "metadata": {},
   "outputs": [],
   "source": [
    "model = rt.RadiativeTransferBNN(1000, 0.3, 0.01, \"n\")\n",
    "model.preprocess_data()\n",
    "model.train_model(250, 200)\n",
    "wavelength = model.wavelength\n",
    "mean_pred_results, std_pred_results = model.test_model()"
   ]
  },
  {
   "cell_type": "code",
   "execution_count": null,
   "metadata": {},
   "outputs": [],
   "source": [
    "i = 0\n",
    "\n",
    "test_inputs = model.X_test\n",
    "test_output = model.y_test\n",
    "\n",
    "while i <24:\n",
    "\n",
    "    fig, ((ax1, ax2), (ax3, ax4)) = plt.subplots(2, 2, figsize=(15, 10))\n",
    "\n",
    "    ax1.plot(wavelength,test_output[i,0,:],color='black',lw=3,label=f'SKIRT Model: input = {test_inputs[i,0]:2.2f}, {test_inputs[i,1]:2.2f}, {test_inputs[i,2]:2.2f}')\n",
    "    ax1.plot(wavelength,mean_pred_results[i,:],color='darkorange',lw=3,label='Predicted Mean Model')\n",
    "    ax2.plot(wavelength,test_output[i+1,0,:],color='black',lw=3,label=f'SKIRT Model: input = {test_inputs[i+1,0]:2.2f}, {test_inputs[i+1,1]:2.2f}, {test_inputs[i+1,2]:2.2f}')\n",
    "    ax2.plot(wavelength,mean_pred_results[i+1,:],color='darkorange',lw=3,label='Predicted Mean Model')\n",
    "    ax3.plot(wavelength,test_output[i+2,0,:],color='black',lw=3,label=f'SKIRT Model: input = {test_inputs[i+2,0]:2.2f}, {test_inputs[i+2,1]:2.2f}, {test_inputs[i+2,2]:2.2f}')\n",
    "    ax3.plot(wavelength,mean_pred_results[i+2,:],color='darkorange',lw=3,label='Predicted Mean Model')\n",
    "    ax4.plot(wavelength,test_output[i+3,0,:],color='black',lw=3,label=f'SKIRT Model: input = {test_inputs[i+3,0]:2.2f}, {test_inputs[i+3,1]:2.2f}, {test_inputs[i+3,2]:2.2f}')\n",
    "    ax4.plot(wavelength,mean_pred_results[i+3,:],color='darkorange',lw=3,label='Predicted Mean Model')\n",
    "\n",
    "\n",
    "    for ax in fig.get_axes():\n",
    "        #ax.label_outer()\n",
    "        ax.set(xlabel=f'Wavelength($\\\\mu$m)', ylabel='Sersic Index (Normalised)')\n",
    "        ax.set_xscale('log')\n",
    "        ax.legend()\n",
    "\n",
    "\n",
    "    plt.tight_layout()\n",
    "\n",
    "    ax.legend()\n",
    "    plt.show()\n",
    "    plt.close()\n",
    "    \n",
    "    \n",
    "    i = i+4\n"
   ]
  }
 ],
 "metadata": {
  "kernelspec": {
   "display_name": "Python 3",
   "language": "python",
   "name": "python3"
  },
  "language_info": {
   "codemirror_mode": {
    "name": "ipython",
    "version": 3
   },
   "file_extension": ".py",
   "mimetype": "text/x-python",
   "name": "python",
   "nbconvert_exporter": "python",
   "pygments_lexer": "ipython3",
   "version": "3.11.6"
  }
 },
 "nbformat": 4,
 "nbformat_minor": 2
}
