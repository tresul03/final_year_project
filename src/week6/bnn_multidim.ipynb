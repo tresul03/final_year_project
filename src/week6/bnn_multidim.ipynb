{
 "cells": [
  {
   "cell_type": "code",
   "execution_count": 8,
   "metadata": {},
   "outputs": [],
   "source": [
    "import numpy as np\n",
    "from sklearn import datasets\n",
    "import torch\n",
    "import torch.nn as nn\n",
    "import torch.optim as optim\n",
    "import torchbnn as bnn\n",
    "import matplotlib.pyplot as plt\n"
   ]
  },
  {
   "cell_type": "code",
   "execution_count": 9,
   "metadata": {},
   "outputs": [],
   "source": [
    "TRAIN_SIZE = 100\n",
    "RANGE_x0 = 2\n",
    "RANGE_x1 = 3\n",
    "\n",
    "x_0 = torch.rand(TRAIN_SIZE)*2*RANGE_x0-RANGE_x0\n",
    "x_1 = torch.rand(TRAIN_SIZE)*2*RANGE_x1-RANGE_x1\n",
    "y_0 = x_1 + x_0\n",
    "y_1 = x_1 - x_0\n",
    "x_0, x_1 = torch.unsqueeze(x_0, dim=1), torch.unsqueeze(x_1, dim=1)\n",
    "y_0, y_1 = torch.unsqueeze(y_0, dim=1), torch.unsqueeze(y_1, dim=1)\n"
   ]
  },
  {
   "cell_type": "code",
   "execution_count": 10,
   "metadata": {},
   "outputs": [],
   "source": [
    "SCALE = 0.5\n",
    "\n",
    "def y_0_clean(x_0, x_1):\n",
    "    return x_1 + x_0\n",
    "def y_0_target(x_0, x_1):\n",
    "    return y_0_clean(x_0,x_1) + (SCALE*torch.rand(x_0.size()) - 0.5*SCALE)\n",
    "\n",
    "def y_1_clean(x_0, x_1):\n",
    "    return x_1 - x_0\n",
    "def y_1_target(x_0, x_1 ):\n",
    "    return y_1_clean(x_0,x_1) + (SCALE*torch.rand(x_0.size()) - 0.5*SCALE)\n"
   ]
  },
  {
   "cell_type": "code",
   "execution_count": 11,
   "metadata": {},
   "outputs": [],
   "source": [
    "dropout_prob = 0.3\n",
    "model = nn.Sequential(\n",
    "    bnn.BayesLinear(prior_mu=0, prior_sigma=0.1, in_features=2, out_features=1000),\n",
    "    nn.ReLU(),\n",
    "    nn.Dropout(dropout_prob),\n",
    "    bnn.BayesLinear(prior_mu=0, prior_sigma=0.1, in_features=1000, out_features=2),\n",
    ")\n"
   ]
  },
  {
   "cell_type": "code",
   "execution_count": 12,
   "metadata": {},
   "outputs": [
    {
     "name": "stdout",
     "output_type": "stream",
     "text": [
      "torch.Size([100, 1]) torch.Size([100, 1]) torch.Size([100, 1]) torch.Size([100, 1])\n",
      "torch.Size([100, 2])\n"
     ]
    },
    {
     "name": "stdout",
     "output_type": "stream",
     "text": [
      "- MSE y0 : 0.15 \n",
      "- MSE y1 : 0.23 \n"
     ]
    }
   ],
   "source": [
    "mse_loss = nn.MSELoss()\n",
    "kl_loss = bnn.BKLLoss(reduction='mean', last_layer_only=False)\n",
    "kl_weight = 0.01\n",
    "\n",
    "optimizer = optim.Adam(model.parameters(), lr=0.01)\n",
    "\n",
    "print(x_0.size(), x_1.size(), y_0.size(), y_1.size())\n",
    "\n",
    "x_train = torch.cat((x_0, x_1), dim=1)\n",
    "\n",
    "y_train = torch.cat((y_0_target(x_0, x_1), y_1_target(x_0, x_1)), dim=1)\n",
    "\n",
    "print(x_train.size())\n",
    "\n",
    "\n",
    "\n",
    "for step in range(2000):\n",
    "    pre_y = model(x_train)\n",
    "    mse_y0 = mse_loss(pre_y[:, 0], y_train[:, 0])\n",
    "    mse_y1 = mse_loss(pre_y[:, 1], y_train[:, 1]) \n",
    "    kl = kl_loss(model)\n",
    "    cost = mse_y0 + mse_y1 + kl_weight*kl\n",
    "    \n",
    "    optimizer.zero_grad()\n",
    "    cost.backward()\n",
    "    optimizer.step()\n",
    "\n",
    "    \n",
    "print('- MSE y0 : %2.2f ' % (mse_y0.item()))\n",
    "print('- MSE y1 : %2.2f ' % (mse_y1.item()))\n"
   ]
  },
  {
   "cell_type": "code",
   "execution_count": 13,
   "metadata": {},
   "outputs": [
    {
     "name": "stdout",
     "output_type": "stream",
     "text": [
      "torch.Size([20, 2]) torch.Size([20, 2])\n"
     ]
    }
   ],
   "source": [
    "TEST_SIZE = int(0.2*TRAIN_SIZE)\n",
    "\n",
    "x_0_test = torch.rand(TEST_SIZE)*2*RANGE_x0-RANGE_x0\n",
    "x_1_test = torch.rand(TEST_SIZE)*2*RANGE_x1-RANGE_x1\n",
    "\n",
    "x_0_test, x_1_test = torch.unsqueeze(x_0_test, dim=1), torch.unsqueeze(x_1_test, dim=1)\n",
    "\n",
    "y_test = torch.cat((y_0_target(x_0_test,x_1_test), y_1_target(x_0_test, x_1_test)), dim=1)\n",
    "\n",
    "x_test = torch.cat((x_0_test, x_1_test), dim=1)\n",
    "\n",
    "print(x_test.size(), y_test.size())\n",
    "\n",
    "\n",
    "models_result = np.array([model(x_test).data.numpy() for k in range(10000)])\n",
    "#print(models_result.shape)\n",
    "#models_result = models_result[:,:,0]\n",
    "#print(models_result.shape)   \n",
    "#models_result = models_result.T\n",
    "#print(models_result.shape)  \n",
    "#mean_values = np.array([models_result[i].mean() for i in range(len(models_result))])\n",
    "#std_values = np.array([models_result[i].std() for i in range(len(models_result))])\n",
    "\n",
    "#print(mean_values)\n",
    "# Transpose the result to have dimensions [num_predictions, 500, 2]\n",
    "models_result = models_result.transpose(0, 2, 1)\n",
    "\n",
    "# Calculate mean and std separately for each column\n",
    "mean_values = models_result.mean(axis=0)\n",
    "std_values = models_result.std(axis=0)\n",
    "\n",
    "# Transpose back to have dimensions [500, 2]\n",
    "mean_values = mean_values.transpose(1, 0)\n",
    "std_values = std_values.transpose(1, 0)\n",
    "\n",
    "#print(mean_values)\n",
    "#print(y_test)\n"
   ]
  },
  {
   "cell_type": "code",
   "execution_count": 14,
   "metadata": {},
   "outputs": [
    {
     "name": "stdout",
     "output_type": "stream",
     "text": [
      "MSE: 0.0248\n",
      "MSE: 0.0234\n"
     ]
    }
   ],
   "source": [
    "mean_values_tensor = torch.tensor(mean_values, dtype=torch.float32)\n",
    "test_mse_y0 = mse_loss(mean_values_tensor[:,0], y_test[:,0])\n",
    "test_mse_y1 = mse_loss(mean_values_tensor[:,1], y_test[:,1])\n",
    "print(f'MSE: {test_mse_y0.item():2.4f}')\n",
    "print(f'MSE: {test_mse_y1.item():2.4f}')\n"
   ]
  },
  {
   "cell_type": "code",
   "execution_count": null,
   "metadata": {},
   "outputs": [],
   "source": []
  }
 ],
 "metadata": {
  "kernelspec": {
   "display_name": "Python 3",
   "language": "python",
   "name": "python3"
  },
  "language_info": {
   "codemirror_mode": {
    "name": "ipython",
    "version": 3
   },
   "file_extension": ".py",
   "mimetype": "text/x-python",
   "name": "python",
   "nbconvert_exporter": "python",
   "pygments_lexer": "ipython3",
   "version": "3.11.6"
  }
 },
 "nbformat": 4,
 "nbformat_minor": 2
}
