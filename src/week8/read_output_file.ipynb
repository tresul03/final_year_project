{
 "cells": [
  {
   "cell_type": "markdown",
   "metadata": {},
   "source": [
    "## Data Processing\n",
    "\n",
    "We now have physical data. How the radiative transfer code works is that a set of parameters, including the log stellar mass, log dust mass, etc, are fed to a SKIRT model, which produces a .h5 file containing values for flux, half-radius, and sersic index against wavelength: at each angle of inclination. There're 20 angles of inclination that the model considers.\n",
    "\n",
    "I've got 6 .h5 files. Each file was given different values for log stellar and dust mass. My objective here is to merge all of the data in those files into one csv. My intention is to feed the resulting csv into the model we've developed previously, to see if it can predict the same values that the classical model does.\n",
    "\n",
    "I'll start with module importation."
   ]
  },
  {
   "cell_type": "code",
   "execution_count": 217,
   "metadata": {},
   "outputs": [],
   "source": [
    "import pandas as pd\n",
    "import numpy as np"
   ]
  },
  {
   "cell_type": "code",
   "execution_count": 218,
   "metadata": {},
   "outputs": [],
   "source": [
    "def read_params(filename: str, filepath: str = '../../data/radiative_transfer/input/'):\n",
    "    \"\"\"\n",
    "    Reads parameters from a specified file and returns them as a dictionary.\n",
    "\n",
    "    The function reads a text file where each line contains a parameter in the format:\n",
    "    `key = value # optional comment`. The function parses these lines to extract the keys \n",
    "    and values, ignoring any text following a '#' as a comment.\n",
    "\n",
    "    Parameters:\n",
    "    - file (str, optional): The path to the file containing the parameters. \n",
    "    Default is '../../data/radiative_transfer/input/parameters.txt'.\n",
    "\n",
    "    Returns:\n",
    "    - dict: A dictionary where each key-value pair corresponds to a parameter \n",
    "    and its respective value. If a line contains a comma-separated list of values, \n",
    "    they are converted to a NumPy array. If the value is a single number (except for \n",
    "    the 'theta' parameter), it is converted to a float.\n",
    "\n",
    "    Note:\n",
    "    - This function assumes that each parameter is defined only once in the file.\n",
    "    - The function is designed to handle special cases where the value is a list \n",
    "    (converted to a NumPy array) or a single float. The exception is the 'theta' \n",
    "    parameter, which is always treated as a NumPy array.\n",
    "    \"\"\"\n",
    "\n",
    "    lines = open(filepath+filename, 'r').readlines()\n",
    "\n",
    "    keys = []\n",
    "    values = []\n",
    "    for i in range(len(lines)):\n",
    "        \n",
    "        line_i = lines[i]\n",
    "        line1 = line_i.split('\\n')[0]\n",
    "        line2 = line1.split('#')[0]\n",
    "        line3 = line2.split('=')\n",
    "        line4 = []\n",
    "        for j in range(len(line3)):\n",
    "            line4.append( line3[j].strip(' ') )\n",
    "        \n",
    "        if len(line4) == 2:\n",
    "            keys.append(line4[0])\n",
    "            line5 = line4[1].split(', ')\n",
    "            line5 = np.array(line5).astype(float)\n",
    "            if len(line5) == 1 and line4[0]!='theta':\n",
    "                line5 = line5[0]\n",
    "            values.append(line5)\n",
    "\n",
    "    table = dict(zip(keys, values) )\n",
    "    return table"
   ]
  },
  {
   "cell_type": "code",
   "execution_count": 219,
   "metadata": {},
   "outputs": [],
   "source": [
    "def read_h5_file(filename: str, thetas, log_mstar, log_mdust_over_mstar, filepath: str = '../../data/radiative_transfer/output/'):\n",
    "    \"\"\"\n",
    "    Reads HDF5 files and compiles data into a single DataFrame with additional parameters.\n",
    "\n",
    "    Parameters:\n",
    "    - filename (str): The name of the HDF5 file to be read.\n",
    "    - thetas (array-like): An array of viewing angles corresponding to each entry in the HDF5 file.\n",
    "    - log_mstar (float): Logarithmic value of stellar mass.\n",
    "    - log_mdust_over_mstar (float): Logarithmic value of the dust mass over stellar mass ratio.\n",
    "    - filepath (str, optional): Path to the directory containing the HDF5 file. Defaults to '../../data/radiative_transfer/output/'.\n",
    "\n",
    "    Returns:\n",
    "    - pd.DataFrame: A DataFrame containing wavelength, flux, half-light radius, Sersic index, viewing angle, logarithm of stellar mass, and logarithm of dust mass over stellar mass ratio.\n",
    "\n",
    "    This function iterates over keys in the HDF5 file, extracts relevant data, and compiles it into a comprehensive DataFrame, adding constant parameters for stellar mass and dust mass ratios.\n",
    "    \"\"\"\n",
    "    \n",
    "    filepath += filename \n",
    "    print(filepath)\n",
    "\n",
    "    # Finding hdf keys\n",
    "    hdf_keys = np.array([])\n",
    "    with pd.HDFStore(filepath, 'r') as hdf:\n",
    "        hdf_keys = np.append(hdf_keys, hdf.keys())\n",
    "\n",
    "    big_df = pd.DataFrame(columns=['wvl', 'flux', 'r', 'n', 'theta', 'log_mstar', 'log_mdust_over_mstar'])\n",
    "\n",
    "    for i in range(len(hdf_keys)):\n",
    "        table = pd.read_hdf(filepath, hdf_keys[i]) # Face-on view\n",
    "        wvl = table['wvl'].to_numpy() # rest-frame wavelength [micron]\n",
    "        flux = table['flux'].to_numpy() # flux [W/m^2]\n",
    "        r = table['r'].to_numpy() # half-light radius [kpc]\n",
    "        n = table['n'].to_numpy() # Sersic index\n",
    "        theta = np.array([thetas[i] for _ in range(len(wvl))]) # viewing angle [degrees]\n",
    "\n",
    "        df = pd.DataFrame({'wvl': wvl, 'flux': flux, 'r': r, 'n': n, 'theta': theta})\n",
    "        big_df = pd.concat([big_df, df], ignore_index=True)\n",
    "\n",
    "    big_df['log_mstar'] = np.array([log_mstar for _ in range(len(big_df))])\n",
    "    big_df['log_mdust_over_mstar'] = np.array([log_mdust_over_mstar for _ in range(len(big_df))])\n",
    "\n",
    "    return big_df.reset_index(drop=True)"
   ]
  },
  {
   "cell_type": "code",
   "execution_count": 220,
   "metadata": {},
   "outputs": [],
   "source": [
    "def read_parameter_files(filenames: list, filepath: str = \"../../data/radiative_transfer/input/\"):\n",
    "    \"\"\"\n",
    "    Reads multiple parameter files and extracts key information.\n",
    "\n",
    "    Parameters:\n",
    "    - filenames (list): A list of filenames for the parameter files to be read.\n",
    "    - filepath (str, optional): Path to the directory containing the parameter files. Defaults to \"../../data/radiative_transfer/input/\".\n",
    "\n",
    "    Returns:\n",
    "    - tuple: A tuple containing three arrays - list_log_mstar, list_log_mdust_over_mstar, and list_theta. \n",
    "      - list_log_mstar (numpy.ndarray): Array of logarithmic stellar mass values.\n",
    "      - list_log_mdust_over_mstar (numpy.ndarray): Array of logarithmic dust mass over stellar mass ratio values.\n",
    "      - list_theta (numpy.ndarray): Array of viewing angles.\n",
    "\n",
    "    The function iterates over each file, reads its parameters, and compiles key data into arrays for further processing.\n",
    "    \"\"\"\n",
    "\n",
    "    list_log_mstar = np.array([])\n",
    "    list_log_mdust = np.array([])\n",
    "    list_theta = np.array([])\n",
    "\n",
    "    for filename in filenames:\n",
    "        table = read_params(filename, filepath)\n",
    "        list_log_mstar = np.append(list_log_mstar, table['logMstar'])\n",
    "        list_log_mdust = np.append(list_log_mdust, table['logMdust'])\n",
    "        list_theta = np.append(list_theta, table['theta'])\n",
    "\n",
    "    list_log_mdust_over_mstar = list_log_mdust - list_log_mstar\n",
    "\n",
    "    return list_log_mstar, list_log_mdust_over_mstar, list_theta\n"
   ]
  },
  {
   "cell_type": "code",
   "execution_count": 221,
   "metadata": {},
   "outputs": [],
   "source": [
    "#obtaining logs of stellar mass, and ratio of dust to stellar mass\n",
    "parameter_files = [f\"parameters{i}.txt\" for i in range(1, 7)]\n",
    "h5_files = [f\"data{i}.h5\" for i in range(1, 7)]\n",
    "list_log_mstar, list_log_mdust_over_mstar, list_theta = read_parameter_files(parameter_files)"
   ]
  },
  {
   "cell_type": "code",
   "execution_count": 222,
   "metadata": {},
   "outputs": [
    {
     "name": "stdout",
     "output_type": "stream",
     "text": [
      "../../data/radiative_transfer/output/data1.h5\n",
      "../../data/radiative_transfer/output/data2.h5\n",
      "../../data/radiative_transfer/output/data3.h5\n",
      "../../data/radiative_transfer/output/data4.h5\n",
      "../../data/radiative_transfer/output/data5.h5\n",
      "../../data/radiative_transfer/output/data6.h5\n"
     ]
    }
   ],
   "source": [
    "final_df = pd.DataFrame(columns=[\"theta\", \"wvl\", \"flux\", \"r\", \"n\", \"log_mstar\", \"log_mdust_over_mstar\"])\n",
    "for i in range(len(h5_files)):\n",
    "    output = read_h5_file(h5_files[i], list_theta, list_log_mstar[i], list_log_mdust_over_mstar[i])\n",
    "    # output.to_csv(f\"../../data/radiative_transfer/output/data{i+1}.csv\", index=False)\n",
    "    final_df = pd.concat([final_df, output], ignore_index=True)\n",
    "\n",
    "final_df.to_csv(\"../../data/radiative_transfer/output/data.csv\", index=False)"
   ]
  }
 ],
 "metadata": {
  "kernelspec": {
   "display_name": "Python 3",
   "language": "python",
   "name": "python3"
  },
  "language_info": {
   "codemirror_mode": {
    "name": "ipython",
    "version": 3
   },
   "file_extension": ".py",
   "mimetype": "text/x-python",
   "name": "python",
   "nbconvert_exporter": "python",
   "pygments_lexer": "ipython3",
   "version": "3.11.2"
  }
 },
 "nbformat": 4,
 "nbformat_minor": 2
}
