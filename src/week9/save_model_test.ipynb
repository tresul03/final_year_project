{
 "cells": [
  {
   "cell_type": "code",
   "execution_count": 1,
   "metadata": {},
   "outputs": [],
   "source": [
    "#importing libraries\n",
    "import numpy as np\n",
    "from sklearn import datasets\n",
    "import torch\n",
    "import torch.nn as nn\n",
    "import torch.optim as optim\n",
    "import torchbnn as bnn\n",
    "import matplotlib.pyplot as plt\n",
    "import pandas as pd\n",
    "from sklearn.model_selection import train_test_split\n"
   ]
  },
  {
   "cell_type": "code",
   "execution_count": 2,
   "metadata": {},
   "outputs": [],
   "source": [
    "#allocating datasets and model to GPU for speed's sake\n",
    "is_available = torch.cuda.is_available()\n",
    "device = torch.device(\"cuda:0\" if torch.cuda.is_available() else \"cpu\")\n"
   ]
  },
  {
   "cell_type": "code",
   "execution_count": 3,
   "metadata": {},
   "outputs": [],
   "source": [
    "class TripleOutputBNN(nn.Module):\n",
    "    def __init__(self, no_of_neurones, dropout_prob):\n",
    "        super(TripleOutputBNN, self).__init__()\n",
    "        self.shared_layer = nn.Sequential( #this is the input layer\n",
    "            bnn.BayesLinear(prior_mu=0, prior_sigma=0.1, in_features=3, out_features=no_of_neurones),\n",
    "            nn.ReLU(),\n",
    "            nn.Dropout(dropout_prob),\n",
    "        )\n",
    "\n",
    "        self.output_layer_n = nn.Sequential( #this is the output layer for n\n",
    "            bnn.BayesLinear(prior_mu=0, prior_sigma=0.1, in_features=no_of_neurones, out_features=no_of_neurones),\n",
    "            nn.ReLU(),\n",
    "            nn.Dropout(dropout_prob),\n",
    "            bnn.BayesLinear(prior_mu=0, prior_sigma=0.1, in_features=no_of_neurones, out_features=1)\n",
    "        )\n",
    "        self.output_layer_f = nn.Sequential( #this is the output layer for f\n",
    "            bnn.BayesLinear(prior_mu=0, prior_sigma=0.1, in_features=no_of_neurones, out_features=no_of_neurones),\n",
    "            nn.ReLU(),\n",
    "            nn.Dropout(dropout_prob),\n",
    "            bnn.BayesLinear(prior_mu=0, prior_sigma=0.1, in_features=no_of_neurones, out_features=1)\n",
    "        )\n",
    "        self.output_layer_r = nn.Sequential( #this is the output layer for r\n",
    "            bnn.BayesLinear(prior_mu=0, prior_sigma=0.1, in_features=no_of_neurones, out_features=no_of_neurones),\n",
    "            nn.ReLU(),\n",
    "            nn.Dropout(dropout_prob),\n",
    "            bnn.BayesLinear(prior_mu=0, prior_sigma=0.1, in_features=no_of_neurones, out_features=1)\n",
    "        )\n",
    "\n",
    "\n",
    "    def forward(self, x): #this is the forward pass, run automatically when you call the model\n",
    "        shared = self.shared_layer(x)\n",
    "        n = self.output_layer_n(shared)\n",
    "        f = self.output_layer_f(shared)\n",
    "        r = self.output_layer_r(shared)\n",
    "        return n , f , r\n"
   ]
  },
  {
   "cell_type": "code",
   "execution_count": 4,
   "metadata": {},
   "outputs": [],
   "source": [
    "def test_model(model, inpt_test):\n",
    "    \"\"\"\n",
    "    Test a Bayesian Neural Network model to produce predictions along with mean and standard deviation.\n",
    "\n",
    "    Parameters:\n",
    "    - model (torch.nn.Sequential): The trained neural network model.\n",
    "    - func (callable): The target function to compare against the model's predictions.\n",
    "\n",
    "    Returns:\n",
    "    - mean_model_results (numpy.ndarray): Array of mean predictions from the model.\n",
    "    - std_model_results (numpy.ndarray): Array of standard deviations of the predictions.\n",
    "    - inpt_test (torch.Tensor): Testing dataset inputs.\n",
    "    - outpt_test (torch.Tensor): Testing dataset targets.\n",
    "\n",
    "    The testing data is moved to the device specified by the global `device` variable.\n",
    "    \"\"\"\n",
    "\n",
    "    #producing predictions of model of testing data, as well as mean and standard deviation of predictions\n",
    "    model.eval().cpu()\n",
    "    n_pred, f_pred, r_pred = model(inpt_test)[0], model(inpt_test)[1], model(inpt_test)[2]\n",
    "\n",
    "    n_pred, f_pred, r_pred = np.array([model(inpt_test)[0].detach().numpy() for _ in range(500)])[:,:,0].T, np.array([model(inpt_test)[1].detach().numpy() for _ in range(500)])[:,:,0].T, np.array([model(inpt_test)[2].detach().numpy() for _ in range(500)])[:,:,0].T\n",
    "\n",
    "    mean_n_results, std_n_results = np.array([np.mean(n_pred[i]) for i in range(n_pred.shape[0])]), np.array([np.std(n_pred[i]) for i in range(n_pred.shape[0])])\n",
    "    mean_f_results, std_f_results = np.array([np.mean(f_pred[i]) for i in range(f_pred.shape[0])]), np.array([np.std(f_pred[i]) for i in range(f_pred.shape[0])])\n",
    "    mean_r_results, std_r_results = np.array([np.mean(r_pred[i]) for i in range(r_pred.shape[0])]), np.array([np.std(r_pred[i]) for i in range(r_pred.shape[0])])\n",
    "\n",
    "    return mean_n_results, std_n_results, mean_f_results, std_f_results, mean_r_results, std_r_results\n"
   ]
  },
  {
   "cell_type": "code",
   "execution_count": 5,
   "metadata": {},
   "outputs": [],
   "source": [
    "import random\n",
    "\n",
    "\n",
    "def CreateData(filepath):\n",
    "\n",
    "    #reading in data\n",
    "    df = pd.read_csv(filepath)\n",
    "\n",
    "    #creating input and output datasets\n",
    "    inpt = df[['log_mstar', 'log_mdust_over_mstar','theta','wvl']]\n",
    "    outpt = df[['n', 'flux', 'r','wvl']]\n",
    "\n",
    "    #splitting data into training and testing datasets\n",
    "    inpt_train, inpt_test, outpt_train, outpt_test = train_test_split(inpt, outpt, test_size=0.2, random_state=42)\n",
    "\n",
    "    #resetting indices\n",
    "\n",
    "    inpt_train.reset_index(drop=True, inplace=True)\n",
    "    inpt_test.reset_index(drop=True, inplace=True)\n",
    "    outpt_train.reset_index(drop=True, inplace=True)\n",
    "    outpt_test.reset_index(drop=True, inplace=True)\n",
    "\n",
    "    #sorting data by wavelength\n",
    "\n",
    "    inpt_train = inpt_train.sort_values(by=['wvl']).drop(columns=['wvl'])\n",
    "    inpt_test = inpt_test.sort_values(by=['wvl']).drop(columns=['wvl'])\n",
    "    outpt_train = outpt_train.sort_values(by=['wvl']).drop(columns=['wvl'])\n",
    "    outpt_test = outpt_test.sort_values(by=['wvl']).drop(columns=['wvl'])\n",
    "\n",
    "    #converting data to tensors\n",
    "    inpt_train, inpt_test, outpt_train, outpt_test = torch.Tensor(inpt_train.values), torch.Tensor(inpt_test.values), torch.Tensor(outpt_train.values), torch.Tensor(outpt_test.values)\n",
    "\n",
    "    #moving data to GPU\n",
    "    inpt_train, inpt_test, outpt_train, outpt_test = inpt_train.to(device), inpt_test.to(device), outpt_train.to(device), outpt_test.to(device)\n",
    "\n",
    "    return inpt_train, inpt_test, outpt_train, outpt_test\n"
   ]
  },
  {
   "cell_type": "code",
   "execution_count": 6,
   "metadata": {},
   "outputs": [
    {
     "data": {
      "text/plain": [
       "TripleOutputBNN(\n",
       "  (shared_layer): Sequential(\n",
       "    (0): BayesLinear(prior_mu=0, prior_sigma=0.1, in_features=3, out_features=1000, bias=True)\n",
       "    (1): ReLU()\n",
       "    (2): Dropout(p=0.3, inplace=False)\n",
       "  )\n",
       "  (output_layer_n): Sequential(\n",
       "    (0): BayesLinear(prior_mu=0, prior_sigma=0.1, in_features=1000, out_features=1000, bias=True)\n",
       "    (1): ReLU()\n",
       "    (2): Dropout(p=0.3, inplace=False)\n",
       "    (3): BayesLinear(prior_mu=0, prior_sigma=0.1, in_features=1000, out_features=1, bias=True)\n",
       "  )\n",
       "  (output_layer_f): Sequential(\n",
       "    (0): BayesLinear(prior_mu=0, prior_sigma=0.1, in_features=1000, out_features=1000, bias=True)\n",
       "    (1): ReLU()\n",
       "    (2): Dropout(p=0.3, inplace=False)\n",
       "    (3): BayesLinear(prior_mu=0, prior_sigma=0.1, in_features=1000, out_features=1, bias=True)\n",
       "  )\n",
       "  (output_layer_r): Sequential(\n",
       "    (0): BayesLinear(prior_mu=0, prior_sigma=0.1, in_features=1000, out_features=1000, bias=True)\n",
       "    (1): ReLU()\n",
       "    (2): Dropout(p=0.3, inplace=False)\n",
       "    (3): BayesLinear(prior_mu=0, prior_sigma=0.1, in_features=1000, out_features=1, bias=True)\n",
       "  )\n",
       ")"
      ]
     },
     "execution_count": 6,
     "metadata": {},
     "output_type": "execute_result"
    }
   ],
   "source": [
    "model = torch.load(r\"C:\\Users\\joshu\\OneDrive\\Desktop\\Physics_Year_3\\Final_year_project\\Github\\project_script\\trained_models\\radiative_transfer_model_mk1.pt\")\n",
    "\n",
    "model.eval()\n"
   ]
  },
  {
   "cell_type": "code",
   "execution_count": 7,
   "metadata": {},
   "outputs": [
    {
     "name": "stdout",
     "output_type": "stream",
     "text": [
      "torch.Size([10848, 3]) torch.Size([2712, 3]) torch.Size([10848, 3]) torch.Size([2712, 3])\n"
     ]
    },
    {
     "name": "stdout",
     "output_type": "stream",
     "text": [
      "mean_n_mse: 0.5117641091346741, mean_f_mse: 0.0006659212522208691 mean_r_mse: 12.143556594848633\n"
     ]
    }
   ],
   "source": [
    "filepath = r\"C:\\Users\\joshu\\OneDrive\\Desktop\\Physics_Year_3\\Final_year_project\\Github\\project_script\\data\\radiative_transfer\\data.csv\"\n",
    "\n",
    "inpt_train, inpt_test, outpt_train, outpt_test = CreateData(filepath)\n",
    "\n",
    "print(inpt_train.shape, inpt_test.shape, outpt_train.shape, outpt_test.shape)\n",
    "\n",
    "mean_n_results, std_n_results, mean_f_results, std_f_results, mean_r_results, std_r_results = test_model(model, inpt_test)\n",
    "\n",
    "mse_loss = nn.MSELoss().to(device)\n",
    "mean_n_mse, mean_f_mse, mean_r_mse = mse_loss(torch.Tensor(mean_n_results), outpt_test[:,0]), mse_loss(torch.Tensor(mean_f_results), outpt_test[:,1]), mse_loss(torch.Tensor(mean_r_results), outpt_test[:,2])\n",
    "\n",
    "print(f\"mean_n_mse: {mean_n_mse}, mean_f_mse: {mean_f_mse}\", f\"mean_r_mse: {mean_r_mse}\")\n"
   ]
  },
  {
   "cell_type": "code",
   "execution_count": null,
   "metadata": {},
   "outputs": [],
   "source": []
  }
 ],
 "metadata": {
  "kernelspec": {
   "display_name": "Python 3",
   "language": "python",
   "name": "python3"
  },
  "language_info": {
   "codemirror_mode": {
    "name": "ipython",
    "version": 3
   },
   "file_extension": ".py",
   "mimetype": "text/x-python",
   "name": "python",
   "nbconvert_exporter": "python",
   "pygments_lexer": "ipython3",
   "version": "3.11.6"
  }
 },
 "nbformat": 4,
 "nbformat_minor": 2
}
