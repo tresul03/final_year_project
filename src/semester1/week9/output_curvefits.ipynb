{
 "cells": [
  {
   "cell_type": "code",
   "execution_count": null,
   "metadata": {},
   "outputs": [],
   "source": [
    "import numpy as np\n",
    "import matplotlib.pyplot as plt\n",
    "from scipy.optimize import curve_fit\n",
    "from scipy.special import wofz\n",
    "import pandas as pd\n",
    "from scipy.stats import skewnorm\n"
   ]
  },
  {
   "cell_type": "code",
   "execution_count": null,
   "metadata": {},
   "outputs": [],
   "source": [
    "filepath = #filepath to csv file here\n",
    "\n",
    "df = pd.read_csv(filepath)\n",
    "\n"
   ]
  },
  {
   "cell_type": "markdown",
   "metadata": {},
   "source": [
    "We can use a skewed normal distribution to model the flux against wavelength"
   ]
  },
  {
   "cell_type": "code",
   "execution_count": null,
   "metadata": {},
   "outputs": [],
   "source": [
    "# Assuming 'df' is your DataFrame\n",
    "wavelength = df['wvl']\n",
    "flux = df['flux']\n",
    "\n",
    "# Define the skewed normal distribution function\n",
    "def skewed_normal(x, amplitude, mean, std, alpha):\n",
    "    return amplitude * skewnorm.pdf(x, alpha, loc=mean, scale=std)\n",
    "\n",
    "# Specify the range for fitting\n",
    "fit_range = (20, 400)  # Adjust the range as needed\n",
    "\n",
    "# Filter data within the specified range\n",
    "mask = (wavelength >= fit_range[0]) & (wavelength <= fit_range[1])\n",
    "wavelength_fit = wavelength[mask]\n",
    "flux_fit_data = flux[mask]\n",
    "\n",
    "# Initial guess for the parameters\n",
    "initial_guess = [max(flux_fit_data), np.mean(wavelength_fit), np.std(wavelength_fit), 0.5]\n",
    "\n",
    "# Fit the skewed normal distribution function to the filtered data\n",
    "params, covariance = curve_fit(skewed_normal, wavelength_fit, flux_fit_data, p0=initial_guess)\n",
    "\n",
    "# Extract the fitted parameters\n",
    "amplitude, mean, std, alpha = params\n",
    "\n",
    "# Print or return the coefficients\n",
    "print(\"Amplitude:\", amplitude)\n",
    "print(\"Mean:\", mean)\n",
    "print(\"Standard Deviation:\", std)\n",
    "print(\"Alpha (Skewness):\", alpha)\n",
    "\n",
    "# Generate values for the skewed normal fit curve\n",
    "wavelength_fit_curve = np.linspace(min(wavelength_fit), max(wavelength_fit), 1000)\n",
    "flux_fit_curve = skewed_normal(wavelength_fit_curve, amplitude, mean, std, alpha)\n",
    "\n",
    "# Plot the original data and the skewed normal fit\n",
    "plt.scatter(wavelength, flux, label='Original Data')\n",
    "plt.plot(wavelength_fit_curve, flux_fit_curve, color='red', label='Skewed Normal Fit')\n",
    "plt.xlabel('Wavelength')\n",
    "plt.ylabel('Flux')\n",
    "plt.legend()\n",
    "plt.title('Wavelength vs Flux with Skewed Normal Fit')\n",
    "plt.show()\n"
   ]
  },
  {
   "cell_type": "markdown",
   "metadata": {},
   "source": [
    "We can also use a skewed normal distribution to model sersic index against wavelength"
   ]
  },
  {
   "cell_type": "code",
   "execution_count": 1,
   "metadata": {},
   "outputs": [
    {
     "ename": "NameError",
     "evalue": "name 'df' is not defined",
     "output_type": "error",
     "traceback": [
      "\u001b[1;31m---------------------------------------------------------------------------\u001b[0m",
      "\u001b[1;31mNameError\u001b[0m                                 Traceback (most recent call last)",
      "\u001b[1;32mc:\\Users\\joshu\\OneDrive\\Desktop\\Physics_Year_3\\Final_year_project\\Github\\project_script\\src\\week9\\output_curvefits.ipynb Cell 5\u001b[0m line \u001b[0;36m2\n\u001b[0;32m      <a href='vscode-notebook-cell:/c%3A/Users/joshu/OneDrive/Desktop/Physics_Year_3/Final_year_project/Github/project_script/src/week9/output_curvefits.ipynb#X10sZmlsZQ%3D%3D?line=0'>1</a>\u001b[0m \u001b[39m# Assuming 'df' is your DataFrame\u001b[39;00m\n\u001b[1;32m----> <a href='vscode-notebook-cell:/c%3A/Users/joshu/OneDrive/Desktop/Physics_Year_3/Final_year_project/Github/project_script/src/week9/output_curvefits.ipynb#X10sZmlsZQ%3D%3D?line=1'>2</a>\u001b[0m wavelength \u001b[39m=\u001b[39m df[\u001b[39m'\u001b[39m\u001b[39mwvl\u001b[39m\u001b[39m'\u001b[39m]\n\u001b[0;32m      <a href='vscode-notebook-cell:/c%3A/Users/joshu/OneDrive/Desktop/Physics_Year_3/Final_year_project/Github/project_script/src/week9/output_curvefits.ipynb#X10sZmlsZQ%3D%3D?line=2'>3</a>\u001b[0m n \u001b[39m=\u001b[39m df[\u001b[39m'\u001b[39m\u001b[39mn\u001b[39m\u001b[39m'\u001b[39m]\n\u001b[0;32m      <a href='vscode-notebook-cell:/c%3A/Users/joshu/OneDrive/Desktop/Physics_Year_3/Final_year_project/Github/project_script/src/week9/output_curvefits.ipynb#X10sZmlsZQ%3D%3D?line=4'>5</a>\u001b[0m \u001b[39m# Define the skewed normal distribution function\u001b[39;00m\n",
      "\u001b[1;31mNameError\u001b[0m: name 'df' is not defined"
     ]
    }
   ],
   "source": [
    "# Assuming 'df' is your DataFrame\n",
    "wavelength = df['wvl']\n",
    "n = df['n']\n",
    "\n",
    "# Define the skewed normal distribution function\n",
    "def skewed_normal(x, amplitude, mean, std, alpha):\n",
    "    return amplitude * skewnorm.pdf(x, alpha, loc=mean, scale=std)\n",
    "\n",
    "# Specify the range for fitting\n",
    "fit_range = (1, 1000)  # Adjust the range as needed\n",
    "\n",
    "# Filter data within the specified range\n",
    "mask = (wavelength >= fit_range[0]) & (wavelength <= fit_range[1])\n",
    "wavelength_fit = wavelength[mask]\n",
    "n_fit_data = n[mask]\n",
    "\n",
    "# Initial guess for the parameters\n",
    "initial_guess = [max(n_fit_data), np.mean(wavelength_fit), np.std(wavelength_fit), 0.5]\n",
    "\n",
    "# Fit the skewed normal distribution function to the filtered data\n",
    "params, covariance = curve_fit(skewed_normal, wavelength_fit, n_fit_data, p0=initial_guess)\n",
    "\n",
    "# Extract the fitted parameters\n",
    "amplitude, mean, std, alpha = params\n",
    "\n",
    "# Print or return the coefficients\n",
    "print(\"Amplitude:\", amplitude)\n",
    "print(\"Mean:\", mean)\n",
    "print(\"Standard Deviation:\", std)\n",
    "print(\"Alpha (Skewness):\", alpha)\n",
    "\n",
    "# Generate values for the skewed normal fit curve\n",
    "wavelength_fit_curve = np.linspace(min(wavelength_fit), max(wavelength_fit), 1000)\n",
    "n_fit_curve = skewed_normal(wavelength_fit_curve, amplitude, mean, std, alpha)\n",
    "\n",
    "# Plot the original Sersic index data and the skewed normal fit\n",
    "plt.scatter(wavelength, n, label='Original Sersic Index Data')\n",
    "plt.plot(wavelength_fit_curve, n_fit_curve, color='red', label='Skewed Normal Fit')\n",
    "plt.xlabel('Wavelength')\n",
    "plt.ylabel('Sersic Index')\n",
    "plt.legend()\n",
    "plt.title('Wavelength vs Sersic Index with Skewed Normal Fit')\n",
    "plt.show()\n"
   ]
  },
  {
   "cell_type": "markdown",
   "metadata": {},
   "source": [
    "We can use a power law decay with an offset to model half radius against wavelength"
   ]
  },
  {
   "cell_type": "code",
   "execution_count": null,
   "metadata": {},
   "outputs": [],
   "source": [
    "# Assuming 'df' is your DataFrame\n",
    "wavelength = df['wvl']\n",
    "r = df['r']\n",
    "\n",
    "# Define the power-law decay with offset function\n",
    "def power_law_decay_with_offset(x, a, n, c):\n",
    "    return a / (x**n) + c\n",
    "\n",
    "# Specify the range for fitting\n",
    "fit_range = (0.1, 1000)  # Adjust the range as needed\n",
    "\n",
    "# Filter data within the specified range\n",
    "mask = (wavelength >= fit_range[0]) & (wavelength <= fit_range[1])\n",
    "wavelength_fit = wavelength[mask]\n",
    "r_fit_data = r[mask]\n",
    "\n",
    "# Initial guess for the parameters\n",
    "initial_guess = [max(r_fit_data), 2.0, min(r_fit_data)]  # You may need to adjust the initial guess\n",
    "\n",
    "# Fit the power-law decay with offset function to the filtered data\n",
    "params, covariance = curve_fit(power_law_decay_with_offset, wavelength_fit, r_fit_data, p0=initial_guess)\n",
    "\n",
    "# Extract the fitted parameters\n",
    "a, n, c = params\n",
    "\n",
    "# Store the coefficients in an array\n",
    "coefficients_array = np.array([a, n, c])\n",
    "\n",
    "# Print or return the coefficients\n",
    "print(\"Coefficient 'a':\", a)\n",
    "print(\"Coefficient 'n':\", n)\n",
    "print(\"Coefficient 'c':\", c)\n",
    "\n",
    "# Generate values for the power-law decay with offset fit curve\n",
    "wavelength_fit_curve = np.linspace(min(wavelength_fit), max(wavelength_fit), 1000)\n",
    "r_fit_curve = power_law_decay_with_offset(wavelength_fit_curve, a, n, c)\n",
    "\n",
    "# Plot the original 'r' data and the power-law decay with offset fit\n",
    "plt.scatter(wavelength, r, label='Original r Data')\n",
    "plt.plot(wavelength_fit_curve, r_fit_curve, color='red', label='Power-law Decay with Offset Fit')\n",
    "plt.xlabel('Wavelength')\n",
    "plt.ylabel('r')\n",
    "plt.legend()\n",
    "plt.title('Wavelength vs r with Power-law Decay with Offset Fit')\n",
    "plt.show()\n",
    "\n",
    "# Return or use the coefficients array as needed\n",
    "print(\"Coefficients Array:\", coefficients_array)\n"
   ]
  }
 ],
 "metadata": {
  "kernelspec": {
   "display_name": "Python 3",
   "language": "python",
   "name": "python3"
  },
  "language_info": {
   "codemirror_mode": {
    "name": "ipython",
    "version": 3
   },
   "file_extension": ".py",
   "mimetype": "text/x-python",
   "name": "python",
   "nbconvert_exporter": "python",
   "pygments_lexer": "ipython3",
   "version": "3.11.6"
  }
 },
 "nbformat": 4,
 "nbformat_minor": 2
}
