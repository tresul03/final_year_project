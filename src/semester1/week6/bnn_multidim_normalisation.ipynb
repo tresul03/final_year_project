{
 "cells": [
  {
   "cell_type": "code",
   "execution_count": 2,
   "metadata": {},
   "outputs": [],
   "source": [
    "import numpy as np\n",
    "from sklearn import datasets\n",
    "import torch\n",
    "import torch.nn as nn\n",
    "import torch.optim as optim\n",
    "import torchbnn as bnn\n",
    "import matplotlib.pyplot as plt\n"
   ]
  },
  {
   "cell_type": "code",
   "execution_count": 3,
   "metadata": {},
   "outputs": [],
   "source": [
    "TRAIN_SIZE = 2000\n",
    "RANGE_x0 = 6\n",
    "RANGE_x1 = 6\n",
    "\n",
    "x_0 = torch.rand(TRAIN_SIZE)*2*RANGE_x0-RANGE_x0\n",
    "x_1 = torch.rand(TRAIN_SIZE)*2*RANGE_x1-RANGE_x1\n",
    "#y_0 = functy0\n",
    "#y_1 = functy1\n",
    "x_0, x_1 = torch.unsqueeze(x_0, dim=1), torch.unsqueeze(x_1, dim=1)\n",
    "#y_0, y_1 = torch.unsqueeze(y_0, dim=1), torch.unsqueeze(y_1, dim=1)\n"
   ]
  },
  {
   "cell_type": "code",
   "execution_count": 4,
   "metadata": {},
   "outputs": [],
   "source": [
    "\n",
    "y_0_clean = lambda x0, x1: 4*np.power(x0, 5) + 12*np.power(x1, 3) - 5\n",
    "\n",
    "y_1_clean = lambda x0, x1: 3*np.power(x0, 4) - 7*np.power(x1, 2) + 9*x0*x1\n",
    "\n",
    "clean_y0, clean_y1 = y_0_clean(x_0, x_1), y_1_clean(x_0, x_1)\n",
    "\n",
    "max_y0_scale, max_y1_scale = clean_y0.max()*0.2, clean_y1.max()*0.2 #scale for noisy function\n",
    "\n",
    "y_0_target = lambda x0, x1: y_0_clean(x0, x1) + (max_y0_scale*torch.rand(x0.size()) - max_y0_scale/2)\n",
    "\n",
    "y_1_target = lambda x0, x1: y_1_clean(x0, x1) + (max_y1_scale*torch.rand(x0.size()) - max_y1_scale/2)\n"
   ]
  },
  {
   "cell_type": "code",
   "execution_count": 5,
   "metadata": {},
   "outputs": [],
   "source": [
    "dropout_prob = 0.3\n",
    "model = nn.Sequential(\n",
    "    bnn.BayesLinear(prior_mu=0, prior_sigma=0.1, in_features=2, out_features=1000),\n",
    "    nn.ReLU(),\n",
    "    nn.Dropout(dropout_prob),\n",
    "    bnn.BayesLinear(prior_mu=0, prior_sigma=0.1, in_features=1000, out_features=2),\n",
    ")\n"
   ]
  },
  {
   "cell_type": "code",
   "execution_count": 6,
   "metadata": {},
   "outputs": [
    {
     "name": "stdout",
     "output_type": "stream",
     "text": [
      "torch.Size([2000, 1]) torch.Size([2000, 1])\n",
      "torch.Size([2000, 2]) torch.Size([2000, 2])\n",
      "torch.Size([2000, 2])\n",
      "- MSE y0 : 0.06 \n",
      "- MSE y1 : 0.10 \n"
     ]
    }
   ],
   "source": [
    "mse_loss = nn.MSELoss()\n",
    "kl_loss = bnn.BKLLoss(reduction='mean', last_layer_only=False)\n",
    "kl_weight = 0.01\n",
    "\n",
    "optimizer = optim.Adam(model.parameters(), lr=0.01)\n",
    "\n",
    "print(x_0.size(), x_1.size())\n",
    "\n",
    "#creating training dataset\n",
    "\n",
    "x_train = torch.cat((x_0, x_1), dim=1)\n",
    "\n",
    "y_train = torch.cat((y_0_target(x_0, x_1), y_1_target(x_0, x_1)), dim=1)\n",
    "\n",
    "print(x_train.size(), y_train.size())\n",
    "\n",
    "#normalising dataset\n",
    "normalise = lambda x: (x - torch.mean(x)) / (torch.std(x))\n",
    "\n",
    "x_train[:,0], x_train[:,1] = normalise(x_train[:,0]), normalise(x_train[:,1])\n",
    "\n",
    "y_train[:,0], y_train[:,1] = normalise(y_train[:,0]), normalise(y_train[:,1])\n",
    "\n",
    "print(x_train.size())\n",
    "\n",
    "\n",
    "\n",
    "for step in range(2000):\n",
    "    pre_y = model(x_train)\n",
    "    mse_y0 = mse_loss(pre_y[:, 0], y_train[:, 0])\n",
    "    mse_y1 = mse_loss(pre_y[:, 1], y_train[:, 1]) \n",
    "    kl = kl_loss(model)\n",
    "    cost = mse_y0 + mse_y1 + kl_weight*kl\n",
    "    \n",
    "    optimizer.zero_grad()\n",
    "    cost.backward()\n",
    "    optimizer.step()\n",
    "\n",
    "    \n",
    "print('- MSE y0 : %2.2f ' % (mse_y0.item()))\n",
    "print('- MSE y1 : %2.2f ' % (mse_y1.item()))\n"
   ]
  },
  {
   "cell_type": "code",
   "execution_count": 7,
   "metadata": {},
   "outputs": [
    {
     "name": "stdout",
     "output_type": "stream",
     "text": [
      "torch.Size([400, 2]) torch.Size([400, 2])\n"
     ]
    }
   ],
   "source": [
    "TEST_SIZE = int(0.2*TRAIN_SIZE)\n",
    "\n",
    "#create test dataset\n",
    "\n",
    "x_0_test = torch.rand(TEST_SIZE)*2*RANGE_x0-RANGE_x0\n",
    "x_1_test = torch.rand(TEST_SIZE)*2*RANGE_x1-RANGE_x1\n",
    "\n",
    "x_0_test, x_1_test = torch.unsqueeze(x_0_test, dim=1), torch.unsqueeze(x_1_test, dim=1)\n",
    "\n",
    "y_test = torch.cat((y_0_target(x_0_test,x_1_test), y_1_target(x_0_test, x_1_test)), dim=1)\n",
    "\n",
    "x_test = torch.cat((x_0_test, x_1_test), dim=1)\n",
    "\n",
    "#normalising dataset\n",
    "\n",
    "x_test[:,0], x_test[:,1] = normalise(x_test[:,0]), normalise(x_test[:,1])\n",
    "\n",
    "y_test[:,0], y_test[:,1] = normalise(y_test[:,0]), normalise(y_test[:,1])\n",
    "\n",
    "print(x_test.size(), y_test.size())\n",
    "\n",
    "\n",
    "models_result = np.array([model(x_test).data.numpy() for k in range(10000)])\n",
    "#print(models_result.shape)\n",
    "#models_result = models_result[:,:,0]\n",
    "#print(models_result.shape)   \n",
    "#models_result = models_result.T\n",
    "#print(models_result.shape)  \n",
    "#mean_values = np.array([models_result[i].mean() for i in range(len(models_result))])\n",
    "#std_values = np.array([models_result[i].std() for i in range(len(models_result))])\n",
    "\n",
    "#print(mean_values)\n",
    "# Transpose the result to have dimensions [num_predictions, 500, 2]\n",
    "models_result = models_result.transpose(0, 2, 1)\n",
    "\n",
    "# Calculate mean and std separately for each column\n",
    "mean_values = models_result.mean(axis=0)\n",
    "std_values = models_result.std(axis=0)\n",
    "\n",
    "# Transpose back to have dimensions [500, 2]\n",
    "mean_values = mean_values.transpose(1, 0)\n",
    "std_values = std_values.transpose(1, 0)\n",
    "\n",
    "#print(mean_values)\n",
    "#print(y_test)\n"
   ]
  },
  {
   "cell_type": "code",
   "execution_count": 8,
   "metadata": {},
   "outputs": [
    {
     "name": "stdout",
     "output_type": "stream",
     "text": [
      "TEST MSE for y0: 0.0408\n",
      "TEST STD for y0: 0.1554\n",
      "TEST MSE for y1: 0.0549\n",
      "TEST STD for y1: 0.1727\n"
     ]
    }
   ],
   "source": [
    "mean_values_tensor = torch.tensor(mean_values, dtype=torch.float32)\n",
    "test_mse_y0 = mse_loss(mean_values_tensor[:,0], y_test[:,0])\n",
    "test_mse_y1 = mse_loss(mean_values_tensor[:,1], y_test[:,1])\n",
    "print(f'TEST MSE for y0: {test_mse_y0.item():2.4f}')\n",
    "print(f'TEST STD for y0: {std_values[:,0].mean():2.4f}')\n",
    "print(f'TEST MSE for y1: {test_mse_y1.item():2.4f}')\n",
    "print(f'TEST STD for y1: {std_values[:,1].mean():2.4f}')\n"
   ]
  },
  {
   "cell_type": "code",
   "execution_count": null,
   "metadata": {},
   "outputs": [],
   "source": []
  }
 ],
 "metadata": {
  "kernelspec": {
   "display_name": "Python 3",
   "language": "python",
   "name": "python3"
  },
  "language_info": {
   "codemirror_mode": {
    "name": "ipython",
    "version": 3
   },
   "file_extension": ".py",
   "mimetype": "text/x-python",
   "name": "python",
   "nbconvert_exporter": "python",
   "pygments_lexer": "ipython3",
   "version": "3.11.6"
  }
 },
 "nbformat": 4,
 "nbformat_minor": 2
}
